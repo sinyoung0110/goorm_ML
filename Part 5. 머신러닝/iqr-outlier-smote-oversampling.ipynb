{
 "cells": [
  {
   "cell_type": "markdown",
   "metadata": {},
   "source": [
    "<hr>\n",
    "\n",
    "### imbalanced-learn 라이브러리는 Scikit-learn을 비롯해 많은 라이브러리들의 버전에 영향을 줍니다.<br><br>-> <span style=\"color:red;\">Colab에서 실습을 진행</span>하는 것을 권장합니다. (혹은 Conda 가상환경 활용)\n",
    "\n",
    "\n",
    "<br>\n",
    "\n",
    "\\* Original source @ https://www.kaggle.com/dogdriip/iqr-outlier-smote-oversampling/notebook \n",
    "\n",
    "<hr>"
   ]
  },
  {
   "cell_type": "markdown",
   "metadata": {},
   "source": [
    "**본 실습에서 다뤄지는 신용카드 데이터셋의 경우 심한 class-imbalance 상태임**\n",
    "<br>- class 0 == 정상적인 신용카드 거래 데이터 \n",
    "<br>- class 1 == 사기 신용카드 거래 데이터\n",
    "<br>전체 데이터셋 중 **0.1715% 만이 class 1 (사기거래) 데이터**\n",
    "\n",
    "<br> 일반적으로 **Fraud detection & Anomaly detection** 의 대상이 되는 데이터셋의 경우 \n",
    "<br> 이처럼 class-imbalanced data인 경우가 많음 (Fraud or Anomaly 자체가 극히 드물게 발생하기 때문)"
   ]
  },
  {
   "cell_type": "markdown",
   "metadata": {},
   "source": [
    "<br>\n",
    "<br>\n",
    "\n",
    "# 1. 필수 라이브러리 install & import"
   ]
  },
  {
   "cell_type": "markdown",
   "metadata": {},
   "source": [
    "### 1) LightGBM 설치"
   ]
  },
  {
   "cell_type": "code",
   "execution_count": null,
   "metadata": {},
   "outputs": [],
   "source": [
    "!pip install lightgbm==3.3.2\n",
    "\n",
    "# \"액세스가 거부되었습니다\" 에러 발생 시,\n",
    "# cmd(명령프롬프트) 우클릭 & 관리자권한으로 실행 후,\n",
    "# \"pip install lightgbm==3.3.2\"를 입력 및 실행하여 설치를 진행합니다."
   ]
  },
  {
   "cell_type": "markdown",
   "metadata": {},
   "source": [
    "### 2) Imbalanced-learn (imblearn) 설치"
   ]
  },
  {
   "cell_type": "markdown",
   "metadata": {},
   "source": [
    "- (로컬 환경에서 진행 시) **cmd(명령프롬프트) 우클릭 & 관리자권한 실행** 후, 아래 명령어를 입력해 설치를 진행합니다.\n",
    "<br>\n",
    "- 에러가 발생할 경우 뒷 부분의 버전 정보(\"==0.7.0\")를 제외해주세요.\n",
    "\n",
    "> <span style=\"color:red;\">**conda install -c conda-forge imbalanced-learn==0.7.0**</span>"
   ]
  },
  {
   "cell_type": "code",
   "execution_count": 125,
   "metadata": {},
   "outputs": [],
   "source": [
    "import numpy as np \n",
    "import pandas as pd \n",
    "import matplotlib.pyplot as plt\n",
    "import seaborn as sns\n",
    "\n",
    "%matplotlib inline\n",
    "\n",
    "import warnings                 \n",
    "warnings.filterwarnings('ignore')"
   ]
  },
  {
   "cell_type": "markdown",
   "metadata": {},
   "source": [
    "<br>\n",
    "<br>\n",
    "\n",
    "# 2. 데이터 로드 및 전처리"
   ]
  },
  {
   "cell_type": "code",
   "execution_count": 151,
   "metadata": {
    "_cell_guid": "79c7e3d0-c299-4dcb-8224-4455121ee9b0",
    "_uuid": "d629ff2d2480ee46fbb7e2d37f6b5fab8052498a"
   },
   "outputs": [
    {
     "data": {
      "text/plain": [
       "(284807, 31)"
      ]
     },
     "execution_count": 151,
     "metadata": {},
     "output_type": "execute_result"
    }
   ],
   "source": [
    "# 데이터 출처 : Credit Card Fraud Detection @ https://www.kaggle.com/datasets/mlg-ulb/creditcardfraud\n",
    "\n",
    "card_df = pd.read_csv('creditcard.csv')\n",
    "card_df.shape"
   ]
  },
  {
   "cell_type": "code",
   "execution_count": 127,
   "metadata": {},
   "outputs": [
    {
     "data": {
      "text/html": [
       "<div>\n",
       "<style scoped>\n",
       "    .dataframe tbody tr th:only-of-type {\n",
       "        vertical-align: middle;\n",
       "    }\n",
       "\n",
       "    .dataframe tbody tr th {\n",
       "        vertical-align: top;\n",
       "    }\n",
       "\n",
       "    .dataframe thead th {\n",
       "        text-align: right;\n",
       "    }\n",
       "</style>\n",
       "<table border=\"1\" class=\"dataframe\">\n",
       "  <thead>\n",
       "    <tr style=\"text-align: right;\">\n",
       "      <th></th>\n",
       "      <th>Time</th>\n",
       "      <th>V1</th>\n",
       "      <th>V2</th>\n",
       "      <th>V3</th>\n",
       "      <th>V4</th>\n",
       "      <th>V5</th>\n",
       "      <th>V6</th>\n",
       "      <th>V7</th>\n",
       "      <th>V8</th>\n",
       "      <th>V9</th>\n",
       "      <th>...</th>\n",
       "      <th>V21</th>\n",
       "      <th>V22</th>\n",
       "      <th>V23</th>\n",
       "      <th>V24</th>\n",
       "      <th>V25</th>\n",
       "      <th>V26</th>\n",
       "      <th>V27</th>\n",
       "      <th>V28</th>\n",
       "      <th>Amount</th>\n",
       "      <th>Class</th>\n",
       "    </tr>\n",
       "  </thead>\n",
       "  <tbody>\n",
       "    <tr>\n",
       "      <th>0</th>\n",
       "      <td>0.0</td>\n",
       "      <td>-1.359807</td>\n",
       "      <td>-0.072781</td>\n",
       "      <td>2.536347</td>\n",
       "      <td>1.378155</td>\n",
       "      <td>-0.338321</td>\n",
       "      <td>0.462388</td>\n",
       "      <td>0.239599</td>\n",
       "      <td>0.098698</td>\n",
       "      <td>0.363787</td>\n",
       "      <td>...</td>\n",
       "      <td>-0.018307</td>\n",
       "      <td>0.277838</td>\n",
       "      <td>-0.110474</td>\n",
       "      <td>0.066928</td>\n",
       "      <td>0.128539</td>\n",
       "      <td>-0.189115</td>\n",
       "      <td>0.133558</td>\n",
       "      <td>-0.021053</td>\n",
       "      <td>149.62</td>\n",
       "      <td>0</td>\n",
       "    </tr>\n",
       "    <tr>\n",
       "      <th>1</th>\n",
       "      <td>0.0</td>\n",
       "      <td>1.191857</td>\n",
       "      <td>0.266151</td>\n",
       "      <td>0.166480</td>\n",
       "      <td>0.448154</td>\n",
       "      <td>0.060018</td>\n",
       "      <td>-0.082361</td>\n",
       "      <td>-0.078803</td>\n",
       "      <td>0.085102</td>\n",
       "      <td>-0.255425</td>\n",
       "      <td>...</td>\n",
       "      <td>-0.225775</td>\n",
       "      <td>-0.638672</td>\n",
       "      <td>0.101288</td>\n",
       "      <td>-0.339846</td>\n",
       "      <td>0.167170</td>\n",
       "      <td>0.125895</td>\n",
       "      <td>-0.008983</td>\n",
       "      <td>0.014724</td>\n",
       "      <td>2.69</td>\n",
       "      <td>0</td>\n",
       "    </tr>\n",
       "    <tr>\n",
       "      <th>2</th>\n",
       "      <td>1.0</td>\n",
       "      <td>-1.358354</td>\n",
       "      <td>-1.340163</td>\n",
       "      <td>1.773209</td>\n",
       "      <td>0.379780</td>\n",
       "      <td>-0.503198</td>\n",
       "      <td>1.800499</td>\n",
       "      <td>0.791461</td>\n",
       "      <td>0.247676</td>\n",
       "      <td>-1.514654</td>\n",
       "      <td>...</td>\n",
       "      <td>0.247998</td>\n",
       "      <td>0.771679</td>\n",
       "      <td>0.909412</td>\n",
       "      <td>-0.689281</td>\n",
       "      <td>-0.327642</td>\n",
       "      <td>-0.139097</td>\n",
       "      <td>-0.055353</td>\n",
       "      <td>-0.059752</td>\n",
       "      <td>378.66</td>\n",
       "      <td>0</td>\n",
       "    </tr>\n",
       "    <tr>\n",
       "      <th>3</th>\n",
       "      <td>1.0</td>\n",
       "      <td>-0.966272</td>\n",
       "      <td>-0.185226</td>\n",
       "      <td>1.792993</td>\n",
       "      <td>-0.863291</td>\n",
       "      <td>-0.010309</td>\n",
       "      <td>1.247203</td>\n",
       "      <td>0.237609</td>\n",
       "      <td>0.377436</td>\n",
       "      <td>-1.387024</td>\n",
       "      <td>...</td>\n",
       "      <td>-0.108300</td>\n",
       "      <td>0.005274</td>\n",
       "      <td>-0.190321</td>\n",
       "      <td>-1.175575</td>\n",
       "      <td>0.647376</td>\n",
       "      <td>-0.221929</td>\n",
       "      <td>0.062723</td>\n",
       "      <td>0.061458</td>\n",
       "      <td>123.50</td>\n",
       "      <td>0</td>\n",
       "    </tr>\n",
       "    <tr>\n",
       "      <th>4</th>\n",
       "      <td>2.0</td>\n",
       "      <td>-1.158233</td>\n",
       "      <td>0.877737</td>\n",
       "      <td>1.548718</td>\n",
       "      <td>0.403034</td>\n",
       "      <td>-0.407193</td>\n",
       "      <td>0.095921</td>\n",
       "      <td>0.592941</td>\n",
       "      <td>-0.270533</td>\n",
       "      <td>0.817739</td>\n",
       "      <td>...</td>\n",
       "      <td>-0.009431</td>\n",
       "      <td>0.798278</td>\n",
       "      <td>-0.137458</td>\n",
       "      <td>0.141267</td>\n",
       "      <td>-0.206010</td>\n",
       "      <td>0.502292</td>\n",
       "      <td>0.219422</td>\n",
       "      <td>0.215153</td>\n",
       "      <td>69.99</td>\n",
       "      <td>0</td>\n",
       "    </tr>\n",
       "  </tbody>\n",
       "</table>\n",
       "<p>5 rows × 31 columns</p>\n",
       "</div>"
      ],
      "text/plain": [
       "   Time        V1        V2        V3        V4        V5        V6        V7  \\\n",
       "0   0.0 -1.359807 -0.072781  2.536347  1.378155 -0.338321  0.462388  0.239599   \n",
       "1   0.0  1.191857  0.266151  0.166480  0.448154  0.060018 -0.082361 -0.078803   \n",
       "2   1.0 -1.358354 -1.340163  1.773209  0.379780 -0.503198  1.800499  0.791461   \n",
       "3   1.0 -0.966272 -0.185226  1.792993 -0.863291 -0.010309  1.247203  0.237609   \n",
       "4   2.0 -1.158233  0.877737  1.548718  0.403034 -0.407193  0.095921  0.592941   \n",
       "\n",
       "         V8        V9  ...       V21       V22       V23       V24       V25  \\\n",
       "0  0.098698  0.363787  ... -0.018307  0.277838 -0.110474  0.066928  0.128539   \n",
       "1  0.085102 -0.255425  ... -0.225775 -0.638672  0.101288 -0.339846  0.167170   \n",
       "2  0.247676 -1.514654  ...  0.247998  0.771679  0.909412 -0.689281 -0.327642   \n",
       "3  0.377436 -1.387024  ... -0.108300  0.005274 -0.190321 -1.175575  0.647376   \n",
       "4 -0.270533  0.817739  ... -0.009431  0.798278 -0.137458  0.141267 -0.206010   \n",
       "\n",
       "        V26       V27       V28  Amount  Class  \n",
       "0 -0.189115  0.133558 -0.021053  149.62      0  \n",
       "1  0.125895 -0.008983  0.014724    2.69      0  \n",
       "2 -0.139097 -0.055353 -0.059752  378.66      0  \n",
       "3 -0.221929  0.062723  0.061458  123.50      0  \n",
       "4  0.502292  0.219422  0.215153   69.99      0  \n",
       "\n",
       "[5 rows x 31 columns]"
      ]
     },
     "execution_count": 127,
     "metadata": {},
     "output_type": "execute_result"
    }
   ],
   "source": [
    "card_df.head()"
   ]
  },
  {
   "cell_type": "markdown",
   "metadata": {},
   "source": [
    "- Time : Number of seconds elapsed between this transaction and the first transaction in the dataset\n",
    "- V1~V28 : may be result of a PCA Dimensionality reduction to protect **user identities and sensitive features** \n",
    "- Amount : Transaction amount\n",
    "- Class : 1 for fraudulent transactions (사기 거래), 0 otherwise (정상 거래)"
   ]
  },
  {
   "cell_type": "code",
   "execution_count": 152,
   "metadata": {},
   "outputs": [],
   "source": [
    "card_df = card_df.drop('Time', axis=1)"
   ]
  },
  {
   "cell_type": "code",
   "execution_count": 153,
   "metadata": {},
   "outputs": [
    {
     "data": {
      "text/plain": [
       "<AxesSubplot:xlabel='Amount', ylabel='Density'>"
      ]
     },
     "execution_count": 153,
     "metadata": {},
     "output_type": "execute_result"
    },
    {
     "data": {
      "image/png": "[encoded data removed]",
      "text/plain": [
       "<Figure size 432x288 with 1 Axes>"
      ]
     },
     "metadata": {
      "needs_background": "light"
     },
     "output_type": "display_data"
    }
   ],
   "source": [
    "sns.distplot(card_df['Amount'])"
   ]
  },
  {
   "cell_type": "code",
   "execution_count": 154,
   "metadata": {},
   "outputs": [
    {
     "data": {
      "text/plain": [
       "<AxesSubplot:xlabel='Amount', ylabel='Density'>"
      ]
     },
     "execution_count": 154,
     "metadata": {},
     "output_type": "execute_result"
    },
    {
     "data": {
      "image/png": "[encoded data removed]",
      "text/plain": [
       "<Figure size 432x288 with 1 Axes>"
      ]
     },
     "metadata": {
      "needs_background": "light"
     },
     "output_type": "display_data"
    }
   ],
   "source": [
    "# 로그변환과 np.log()가 아닌 np.log1p()를 하는 이유 @ https://suppppppp.github.io/posts/Why-Series-MDM-1/\n",
    "\n",
    "sns.distplot(np.log1p(card_df['Amount']))"
   ]
  },
  {
   "cell_type": "code",
   "execution_count": 155,
   "metadata": {},
   "outputs": [],
   "source": [
    "card_df['Amount'] = np.log1p(card_df['Amount'])"
   ]
  },
  {
   "cell_type": "markdown",
   "metadata": {},
   "source": [
    "<br>\n",
    "<br>\n",
    "\n",
    "# 3. Outlier 탐지 및 제거"
   ]
  },
  {
   "cell_type": "markdown",
   "metadata": {},
   "source": [
    "**본 데이터셋과 같이 Feature의 수가 무척 많을 경우, <span style=\"color:red;\"><b>Label(Target) 열과 가장 높은 상관관계를 갖고 있는 Feature들</b></span>을 위주로 Outlier handling을 진행해주는 것이 좋음**\n",
    "\n",
    "<br>\n",
    "- 모든 Feature를 대상으로 이상치 검출 & 제거를 하는 경우 많은 시간이 소모됨\n",
    "<br>- 모든 Feature를 대상으로 이상치 검출 & 제거를 하는 경우 과도하게 많은 행이 삭제될 수 있음\n",
    "<br>- Label(Target) 열과 낮은 상관관계를 갖고 있는 Feature들의 경우 이상치 제거를 하더라도 결과적인 모델 성능 향상이 미미함"
   ]
  },
  {
   "cell_type": "code",
   "execution_count": 132,
   "metadata": {},
   "outputs": [
    {
     "data": {
      "text/plain": [
       "<AxesSubplot:>"
      ]
     },
     "execution_count": 132,
     "metadata": {},
     "output_type": "execute_result"
    },
    {
     "data": {
      "image/png": "[encoded data removed]",
      "text/plain": [
       "<Figure size 648x648 with 2 Axes>"
      ]
     },
     "metadata": {
      "needs_background": "light"
     },
     "output_type": "display_data"
    }
   ],
   "source": [
    "plt.figure(figsize=(9, 9))\n",
    "sns.heatmap(card_df.corr(), cmap='RdBu')"
   ]
  },
  {
   "cell_type": "code",
   "execution_count": 133,
   "metadata": {},
   "outputs": [
    {
     "data": {
      "text/plain": [
       "V17      -0.326481\n",
       "V14      -0.302544\n",
       "V12      -0.260593\n",
       "V10      -0.216883\n",
       "V16      -0.196539\n",
       "V3       -0.192961\n",
       "V7       -0.187257\n",
       "V18      -0.111485\n",
       "V1       -0.101347\n",
       "V9       -0.097733\n",
       "V5       -0.094974\n",
       "V6       -0.043643\n",
       "Amount   -0.008326\n",
       "V24      -0.007221\n",
       "V13      -0.004570\n",
       "V15      -0.004223\n",
       "V23      -0.002685\n",
       "V22       0.000805\n",
       "V25       0.003308\n",
       "V26       0.004455\n",
       "V28       0.009536\n",
       "V27       0.017580\n",
       "V8        0.019875\n",
       "V20       0.020090\n",
       "V19       0.034783\n",
       "V21       0.040413\n",
       "V2        0.091289\n",
       "V4        0.133447\n",
       "V11       0.154876\n",
       "Class     1.000000\n",
       "Name: Class, dtype: float64"
      ]
     },
     "execution_count": 133,
     "metadata": {},
     "output_type": "execute_result"
    }
   ],
   "source": [
    "# Correlation dataframe 기준 최하단 \"Class\" 행에서 가장 절대값이 큰 상관관계를 보이는 feature 찾기\n",
    "\n",
    "card_df.corr().loc['Class'].sort_values()"
   ]
  },
  {
   "cell_type": "code",
   "execution_count": 162,
   "metadata": {},
   "outputs": [
    {
     "name": "stdout",
     "output_type": "stream",
     "text": [
      "[8296, 8615, 9035, 9252]\n"
     ]
    }
   ],
   "source": [
    "outlier_index = []\n",
    "\n",
    "for col in ['V14', 'V17']:\n",
    "    \n",
    "    # 전체 데이터프레임을 대상으로 outlier 제거 시, class 1 기준 행의 수가 492개에서 47개로 줄어들어버립니다.\n",
    "    df_fraud = card_df[card_df['Class'] == 1] \n",
    "    \n",
    "    quantile_25 = df_fraud[col].quantile(0.25)\n",
    "    quantile_75 = df_fraud[col].quantile(0.75)\n",
    "    iqr = quantile_75 - quantile_25\n",
    "\n",
    "    outlier_df = df_fraud[(df_fraud[col] < quantile_25 - iqr * 1.5) | (df_fraud[col] > quantile_75 + iqr * 1.5) ]\n",
    "    outlier_index = outlier_index + list(outlier_df.index)\n",
    "\n",
    "print(outlier_index)"
   ]
  },
  {
   "cell_type": "code",
   "execution_count": 135,
   "metadata": {},
   "outputs": [],
   "source": [
    "card_df = card_df.drop(outlier_index)"
   ]
  },
  {
   "cell_type": "markdown",
   "metadata": {},
   "source": [
    "<br>\n",
    "<br>\n",
    "\n",
    "# 4. SMOTE를 활용한 Over-sampling 적용"
   ]
  },
  {
   "cell_type": "markdown",
   "metadata": {},
   "source": [
    "<hr>\n",
    "\n",
    "### imbalanced-learn 라이브러리는 Scikit-learn을 비롯해 많은 라이브러리들의 버전에 영향을 줍니다.<br><br>-> <span style=\"color:red;\">Colab에서 실습을 진행</span>하는 것을 권장합니다. (혹은 Conda 가상환경 활용)\n",
    "\n",
    "<hr>"
   ]
  },
  {
   "cell_type": "markdown",
   "metadata": {},
   "source": [
    "Class-imbalance가 심한 데이터셋을 활용할 시, \n",
    "<br>**무조건 대다수 데이터가 포함된 class를 선택하는 방식**으로 모델이 잘못 학습될 수 있습니다. (다수 데이터 class에 치우친 학습 진행)\n",
    "\n",
    "이 경우, 적은 수의 데이터가 포함된 class의 데이터 양을 늘려주는 방법(over-sampling)을 적용해볼 수 있습니다.\n",
    "<br>기본적으로 Over-sampling 기법들은 원본 데이터의 값을 살짝씩 변경해 새로운 데이터를 생성하는 방식으로 작동합니다.\n",
    "\n",
    "저희가 활용할 <span style=\"color:red;\">**SMOTE(Synthetic Minority Over-sampling Technique)**</span> 기법은\n",
    "<br>- 적은 수의 데이터가 포함된 class의 개별 데이터들에 대하여 K-Nearest-Neighbor들을 찾아, \n",
    "<br>- 원본 데이터와 K개 최근접 이웃 사이의 차이를 일정 값으로 만들어, \n",
    "<br>- **기존 데이터와 약간 차이가 나는 새로운 데이터들을 생성**하는 방식으로 작동합니다."
   ]
  },
  {
   "cell_type": "markdown",
   "metadata": {},
   "source": [
    "## 1) train-test split"
   ]
  },
  {
   "cell_type": "markdown",
   "metadata": {},
   "source": [
    "**SMOTE를 적용할 때는 반드시 <span style='color:red;'><b>학습 데이터 세트만 오버 샘플링</b></span>을 해야 합니다.** "
   ]
  },
  {
   "cell_type": "code",
   "execution_count": 156,
   "metadata": {},
   "outputs": [],
   "source": [
    "x_data = card_df.copy()\n",
    "del x_data['Class']\n",
    "\n",
    "y_data = card_df['Class']"
   ]
  },
  {
   "cell_type": "code",
   "execution_count": 157,
   "metadata": {},
   "outputs": [],
   "source": [
    "from sklearn.model_selection import train_test_split\n",
    "\n",
    "X_train, X_test, y_train, y_test = train_test_split(x_data, y_data, \n",
    "                                                    test_size=0.3, \n",
    "                                                    stratify=y_data)"
   ]
  },
  {
   "cell_type": "code",
   "execution_count": 137,
   "metadata": {},
   "outputs": [
    {
     "name": "stdout",
     "output_type": "stream",
     "text": [
      "[ Train y ]\n",
      "0    199020\n",
      "1       342\n",
      "Name: Class, dtype: int64\n",
      "0    99.828453\n",
      "1     0.171547\n",
      "Name: Class, dtype: float64\n",
      "\n",
      "[ Test y ]\n",
      "0    85295\n",
      "1      146\n",
      "Name: Class, dtype: int64\n",
      "0    99.829122\n",
      "1     0.170878\n",
      "Name: Class, dtype: float64\n"
     ]
    }
   ],
   "source": [
    "print('[ Train y ]')\n",
    "print(y_train.value_counts())\n",
    "print(y_train.value_counts() / y_train.shape[0] * 100)\n",
    "print()\n",
    "\n",
    "print('[ Test y ]')\n",
    "print(y_test.value_counts())\n",
    "print(y_test.value_counts() / y_test.shape[0] * 100)"
   ]
  },
  {
   "cell_type": "markdown",
   "metadata": {},
   "source": [
    "## 2) SMOTE 기반 Over-sampling"
   ]
  },
  {
   "cell_type": "code",
   "execution_count": 159,
   "metadata": {},
   "outputs": [],
   "source": [
    "from imblearn.over_sampling import SMOTE"
   ]
  },
  {
   "cell_type": "code",
   "execution_count": 160,
   "metadata": {},
   "outputs": [],
   "source": [
    "smote = SMOTE(random_state=42)\n",
    "\n",
    "X_train_over, y_train_over = smote.fit_sample(X_train, y_train)"
   ]
  },
  {
   "cell_type": "code",
   "execution_count": 144,
   "metadata": {},
   "outputs": [
    {
     "name": "stdout",
     "output_type": "stream",
     "text": [
      "SMOTE-sampling 적용 전 : (199362, 29) (199362,)\n",
      "SMOTE-sampling 적용 후 : (398040, 29) (398040,)\n"
     ]
    }
   ],
   "source": [
    "print('SMOTE-sampling 적용 전 :', X_train.shape, y_train.shape)\n",
    "print('SMOTE-sampling 적용 후 :', X_train_over.shape, y_train_over.shape)"
   ]
  },
  {
   "cell_type": "code",
   "execution_count": 147,
   "metadata": {},
   "outputs": [
    {
     "name": "stdout",
     "output_type": "stream",
     "text": [
      "SMOTE-sampling 적용 전 :\n",
      "0    199020\n",
      "1       342\n",
      "Name: Class, dtype: int64\n",
      "\n",
      "SMOTE-sampling 적용 후 :\n",
      "0    199020\n",
      "1    199020\n",
      "Name: Class, dtype: int64\n"
     ]
    }
   ],
   "source": [
    "print('SMOTE-sampling 적용 전 :')\n",
    "print(y_train.value_counts())\n",
    "print()\n",
    "\n",
    "print('SMOTE-sampling 적용 후 :')\n",
    "print(y_train_over.value_counts())"
   ]
  },
  {
   "cell_type": "markdown",
   "metadata": {},
   "source": [
    "<br>\n",
    "<br>\n",
    "\n",
    "# 5. Model training & evaluation (Light-GBM 활용)"
   ]
  },
  {
   "cell_type": "code",
   "execution_count": 163,
   "metadata": {},
   "outputs": [],
   "source": [
    "from lightgbm import LGBMClassifier\n",
    "from sklearn import metrics "
   ]
  },
  {
   "cell_type": "markdown",
   "metadata": {},
   "source": [
    "### 1) **without** over-sampling "
   ]
  },
  {
   "cell_type": "code",
   "execution_count": 149,
   "metadata": {
    "scrolled": true
   },
   "outputs": [
    {
     "name": "stdout",
     "output_type": "stream",
     "text": [
      "Confusion matrix:\n",
      "[[85291     4]\n",
      " [   31   115]]\n",
      "\n",
      "Accuracy : 0.9995903605997121\n",
      "Precision : 0.9663865546218487\n",
      "Recall : 0.7876712328767124\n",
      "F1 : 0.8679245283018869\n",
      "ROC_AUC : 0.97819565777756\n"
     ]
    }
   ],
   "source": [
    "model_without_smote = LGBMClassifier(n_estimators=1000, \n",
    "                                       num_leaves=64, \n",
    "                                       boost_from_average=False)\n",
    "\n",
    "model_without_smote.fit(X_train, y_train) # Over-sampling 적용 전\n",
    "\n",
    "pred = model_without_smote.predict(X_test)\n",
    "pred_proba = model_without_smote.predict_proba(X_test)[:, 1]\n",
    "\n",
    "confusion = metrics.confusion_matrix(y_test, pred)\n",
    "accuracy = metrics.accuracy_score(y_test, pred)\n",
    "precision = metrics.precision_score(y_test, pred)\n",
    "recall = metrics.recall_score(y_test, pred)\n",
    "f1 = metrics.f1_score(y_test, pred)\n",
    "roc_auc = metrics.roc_auc_score(y_test, pred_proba)\n",
    "\n",
    "print('Confusion matrix:')\n",
    "print(confusion)\n",
    "print()\n",
    "\n",
    "print('Accuracy :', accuracy)\n",
    "print('Precision :', precision)\n",
    "print('Recall :', recall)\n",
    "print('F1 :', f1)\n",
    "print('ROC_AUC :', roc_auc)"
   ]
  },
  {
   "cell_type": "markdown",
   "metadata": {},
   "source": [
    "### 2) **with** over-sampling "
   ]
  },
  {
   "cell_type": "markdown",
   "metadata": {},
   "source": [
    "### Over-sampling 이후"
   ]
  },
  {
   "cell_type": "code",
   "execution_count": 150,
   "metadata": {},
   "outputs": [
    {
     "name": "stdout",
     "output_type": "stream",
     "text": [
      "Confusion matrix:\n",
      "[[85275    20]\n",
      " [   26   120]]\n",
      "\n",
      "Accuracy : 0.999461616788193\n",
      "Precision : 0.8571428571428571\n",
      "Recall : 0.821917808219178\n",
      "F1 : 0.8391608391608392\n",
      "ROC_AUC : 0.9784783993023407\n"
     ]
    }
   ],
   "source": [
    "model_with_smote = LGBMClassifier(n_estimators=1000, \n",
    "                                  num_leaves=64, \n",
    "                                  boost_from_average=False)\n",
    "\n",
    "model_with_smote.fit(X_train_over, y_train_over) # Over-sampling 적용 후\n",
    "\n",
    "pred = model_with_smote.predict(X_test)\n",
    "pred_proba = model_with_smote.predict_proba(X_test)[:, 1]\n",
    "\n",
    "confusion = metrics.confusion_matrix(y_test, pred)\n",
    "accuracy = metrics.accuracy_score(y_test, pred)\n",
    "precision = metrics.precision_score(y_test, pred)\n",
    "recall = metrics.recall_score(y_test, pred)\n",
    "f1 = metrics.f1_score(y_test, pred)\n",
    "roc_auc = metrics.roc_auc_score(y_test, pred_proba)\n",
    "\n",
    "print('Confusion matrix:')\n",
    "print(confusion)\n",
    "print()\n",
    "\n",
    "print('Accuracy :', accuracy)\n",
    "print('Precision :', precision)\n",
    "print('Recall :', recall)\n",
    "print('F1 :', f1)\n",
    "print('ROC_AUC :', roc_auc)"
   ]
  },
  {
   "cell_type": "markdown",
   "metadata": {},
   "source": [
    "> SMOTE 기반 Over-sampling 적용 결과,\n",
    "<br>\n",
    "<br>-> **Class 1** 데이터 증대\n",
    "<br>-> **실제 Class 값이 1 인 데이터** 중 **model 이 class 1 으로 잘 맞춰낸 비율**인 <span style='color:red;'>**Recall 상승**</span>\n",
    "<br><br> ※ 일반적으로 <span style=\"color:blue;\">Recall & Precision은 Trade-off 관계가 있음</span>"
   ]
  },
  {
   "cell_type": "markdown",
   "metadata": {},
   "source": [
    "<br>\n",
    "<br>\n",
    "\n",
    "### cf) IQR 기반 이상치 제거를 하지 않았을 경우의 결과"
   ]
  },
  {
   "cell_type": "code",
   "execution_count": 164,
   "metadata": {
    "scrolled": false
   },
   "outputs": [
    {
     "name": "stdout",
     "output_type": "stream",
     "text": [
      "Confusion matrix:\n",
      "[[85286     9]\n",
      " [   30   118]]\n",
      "\n",
      "Accuracy : 0.9995435553526912\n",
      "Precision : 0.9291338582677166\n",
      "Recall : 0.7972972972972973\n",
      "F1 : 0.8581818181818182\n",
      "ROC_AUC : 0.9791850382535652\n"
     ]
    }
   ],
   "source": [
    "# over-sampling 적용 X"
   ]
  },
  {
   "cell_type": "code",
   "execution_count": 165,
   "metadata": {},
   "outputs": [
    {
     "name": "stdout",
     "output_type": "stream",
     "text": [
      "Confusion matrix:\n",
      "[[85271    24]\n",
      " [   30   118]]\n",
      "\n",
      "Accuracy : 0.9993679997191109\n",
      "Precision : 0.8309859154929577\n",
      "Recall : 0.7972972972972973\n",
      "F1 : 0.8137931034482759\n",
      "ROC_AUC : 0.9765384999279132\n"
     ]
    }
   ],
   "source": [
    "# over-sampling 적용 O"
   ]
  }
 ],
 "metadata": {
  "kernelspec": {
   "display_name": "Python 3",
   "language": "python",
   "name": "python3"
  },
  "language_info": {
   "codemirror_mode": {
    "name": "ipython",
    "version": 3
   },
   "file_extension": ".py",
   "mimetype": "text/x-python",
   "name": "python",
   "nbconvert_exporter": "python",
   "pygments_lexer": "ipython3",
   "version": "3.8.8"
  }
 },
 "nbformat": 4,
 "nbformat_minor": 4
}
